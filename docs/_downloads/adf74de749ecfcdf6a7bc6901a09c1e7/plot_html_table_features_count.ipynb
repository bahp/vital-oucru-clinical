{
  "cells": [
    {
      "cell_type": "code",
      "execution_count": null,
      "metadata": {
        "collapsed": false
      },
      "outputs": [],
      "source": [
        "%matplotlib inline"
      ]
    },
    {
      "cell_type": "markdown",
      "metadata": {},
      "source": [
        "\n# Datasets Description\n"
      ]
    },
    {
      "cell_type": "code",
      "execution_count": null,
      "metadata": {
        "collapsed": false
      },
      "outputs": [],
      "source": [
        "# Libraries\nimport yaml\nimport pandas as pd\n\nfrom datablend.core.validation.reports import report_tidy_feature_count_per_dataset\n\n\n# ---------------------------------\n# Methods\n# ---------------------------------\ndef create_dataframe(data):\n    \"\"\"Creates the DataFrame.\n\n    Parameters\n    ----------\n    data: pd.DataFrame\n\n    Returns\n    -------\n    pd.DataFrame\n        Counts per datasets.\n    \"\"\"\n\n    # Copy just in case\n    count = data.copy(deep=True)\n\n    # Feature count\n    count = report_tidy_feature_count_per_dataset(count)\n\n    # Format\n    count = count.fillna('-')\n    count = count.applymap(str)\n    count = count.reset_index()\n    count.columns = count.columns.droplevel(1)\n    count = count.rename(columns={'index': 'name'})\n    count = count.set_index('name')\n    count = count.reset_index()\n    count.columns.name = None\n\n    # Return\n    return count\n\n\n# ---------------------------------\n# Constants\n# ---------------------------------\n# Path with data\npath_data = '../../resources/data/20210313-v0.0.8/'\npath_data+= 'combined/combined_tidy.csv'\n\n# Path to load the HTML table template\npath_html_template = './template_features_count.html'\n\n# Path to save the HTML file\npath_html_tables = '../../docs/source/_static/datasets/html-tables/'\n\n# File name\nfilename = 'features_count.html'\n\n# Columns to include\ncolumns = ['name',\n           'dtype',\n           'unit',\n           'code',\n           'ctype',\n           'categories',\n           'description',\n           'unique',\n           'transformations',\n           'range']\n\n# ---------------------------------\n# Main\n# ---------------------------------\n# Load\ndata = pd.read_csv(path_data,\n    index_col=0, parse_dates=['date'],\n    low_memory=False)\n\n\n# Create describe\ndescribe = create_dataframe(data)\n\n\n# Create HTML for table\nhtml_table = describe.to_html(table_id='example',\n     classes='display', border=0, index=False)\n\n# Create full HTML path\npath_html_output = path_html_tables + filename\n\n# Load template and save HTML table file\nwith open(path_html_template, 'r') as template, \\\n     open(path_html_output, \"w+\") as table:\n\n    # Save HTML table file\n    table.write(template.read() % html_table)\n    table.close()\n    template.close()\n\na = 8"
      ]
    }
  ],
  "metadata": {
    "kernelspec": {
      "display_name": "Python 3",
      "language": "python",
      "name": "python3"
    },
    "language_info": {
      "codemirror_mode": {
        "name": "ipython",
        "version": 3
      },
      "file_extension": ".py",
      "mimetype": "text/x-python",
      "name": "python",
      "nbconvert_exporter": "python",
      "pygments_lexer": "ipython3",
      "version": "3.9.1"
    }
  },
  "nbformat": 4,
  "nbformat_minor": 0
}