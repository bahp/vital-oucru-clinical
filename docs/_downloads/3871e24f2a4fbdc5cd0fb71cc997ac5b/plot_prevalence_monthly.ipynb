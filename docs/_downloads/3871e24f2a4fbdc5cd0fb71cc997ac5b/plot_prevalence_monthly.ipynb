{
  "cells": [
    {
      "cell_type": "code",
      "execution_count": null,
      "metadata": {
        "collapsed": false
      },
      "outputs": [],
      "source": [
        "%matplotlib inline"
      ]
    },
    {
      "cell_type": "markdown",
      "metadata": {},
      "source": [
        "\n# Monthly prevalence (yearly)\n\nThis example computes the prevalence of dengue in the ``HTD`` as the\nproportion of patients which were diagnosed with Dengue based on any\npositive result for the ``NS1``, ``PCR`` or ``serology`` tests for\neach year from 1999 to 2021.\n"
      ]
    },
    {
      "cell_type": "code",
      "execution_count": null,
      "metadata": {
        "collapsed": false
      },
      "outputs": [],
      "source": [
        "# Libraries\nimport calendar\nimport pandas as pd\nimport numpy as np\nimport seaborn as sns\nimport matplotlib.pyplot as plt\n\n# DataBlend library\nfrom datablend.core.repair.correctors import oucru_dengue_interpretation_feature\n\n# Seaborn\nsns.set_theme(style=\"whitegrid\")\n\n\n# ---------------------------------\n# Methods\n# ---------------------------------\ndef prevalence(x):\n    return (np.sum(x) / len(x)) * 100\n\n\n# ---------------------------------\n# Constants\n# ---------------------------------\n# The data filepath\npath = '../../resources/data/20210313-v0.0.8/combined/combined_tidy.csv'\n\n# Features\nfeatures = ['study_no',\n            'date',\n            'dsource',\n            'pcr_dengue_serotype',\n            'igm_interpretation',\n            'igg_interpretation',\n            'ns1_interpretation',\n            'ns1_plasma_interpretation',\n            'ns1_platelia_interpretation',\n            'ns1_urine_interpretation',\n            'serology_interpretation',\n            'serology_single_interpretation',\n            'serology_paired_interpretation']\n\n# ---------------------------------\n# Main\n# ---------------------------------\n# Read data\ndata = pd.read_csv(path, low_memory=False,\n                         parse_dates=['date'],\n                         usecols=features)\n\n# Format\ndata = data.convert_dtypes()\ndata = data[features]\n\n# These datasets do not have pcr_dengue_serotype.\ndata = data[~data.dsource.isin(['01nva', '42dx'])]\n\n# Add dengue interpretation\ndata['dengue_interpretation'] = \\\n    oucru_dengue_interpretation_feature(data,\n        pcr=True, ns1=True, igm=True,\n        paired_igm_igg=True, default=False)\n\n# Overall outcome for patient\npatients = data.groupby('study_no').max()\npatients['month'] = patients.date.dt.month\npatients['year'] = patients.date.dt.year\n\n# Show\nprint(\"\\nPatients:\")\nprint(patients)\n\n\n# Compute prevalence\n# ------------------\n# Compute prevalence\nprevalence = patients.reset_index() \\\n    .groupby(by=['month', 'year']).agg( \\\n        prevalence=('dengue_interpretation', prevalence),\n        n_patients=('study_no', 'count'))\n\n# Drop extremes\n#idxs = prevalence.prevalence.between(0.01, 99.9)\n\n# Clean for plotting\nprevalence = prevalence.reset_index()\n#prevalence = prevalence[idxs]\n\n# Format month\n#prevalence.month = prevalence.month.apply(\n#    lambda x: calendar.month_abbr[x])\n\n# Create tables\ntable_prevalence = pd.pivot_table(prevalence,\n    index=['year'], values='prevalence', columns=['month'])\ntable_npatients = pd.pivot_table(prevalence,\n    index=['year'], values='n_patients', columns=['month'])\n\n# Month numbers to abbr\ndef month_abbr(v):\n    return [calendar.month_abbr[x] for x in v]\n\ntable_prevalence.columns = month_abbr(table_prevalence.columns)\ntable_npatients.columns = month_abbr(table_npatients.columns)\nprevalence.month = month_abbr(prevalence.month)\n\n# Show\nprint(\"\\n\")\nprint(prevalence)\nprint(\"\\nPrevalence table:\")\nprint(table_prevalence.round(2))\nprint(\"\\n#Patients table:\")\nprint(table_npatients.round(0))"
      ]
    },
    {
      "cell_type": "markdown",
      "metadata": {},
      "source": [
        "Lets plot the ``boxplot`` with the monthly dengue prevalence per\nyear. The x-axis represents the month and the y-axis the prevalence\nin %. In addition, to the distribution (boxplot) the single markers\nhave been displayed.\n\n"
      ]
    },
    {
      "cell_type": "code",
      "execution_count": null,
      "metadata": {
        "collapsed": false
      },
      "outputs": [],
      "source": [
        "# --------------------------\n# Plot boxplot\n# --------------------------\n# Initialize the matplotlib figure\nf, ax = plt.subplots(figsize=(6, 3))\n\n# Draw boxplot\nsns.boxplot(x=\"month\", y=\"prevalence\",\n    data=prevalence, whis=[0, 100], width=.6,\n    linewidth=0.75, palette=\"vlag\")\n\n# Draw each observation\nsns.stripplot(x=\"month\", y=\"prevalence\",\n    data=prevalence, dodge=True,\n    linewidth=0.2, palette='vlag')\n\n# Sns plot config\nsns.despine(left=True, bottom=True)\n\n# Add a legend and informative axis label\nax.set(xlabel=\"\", ylabel=\"Prevalence (%)\",\n       title=\"Monthly dengue prevalence in HTD\")"
      ]
    },
    {
      "cell_type": "markdown",
      "metadata": {},
      "source": [
        "Let's create the same figure but adding the prevalence values\nin a ``table`` below.\n\n"
      ]
    },
    {
      "cell_type": "code",
      "execution_count": null,
      "metadata": {
        "collapsed": false
      },
      "outputs": [],
      "source": [
        "# ----------------------\n# Plot boxplot and table\n# ----------------------\n# Initialize the matplotlib figure\nf, ax = plt.subplots(figsize=(6, 6))\n\n# Draw boxplot\nsns.boxplot(x=\"month\", y=\"prevalence\",\n    data=prevalence, whis=[0, 100], width=.6,\n    linewidth=0.75, palette=\"vlag\")\n\n# Draw each observation\nsns.stripplot(x=\"month\", y=\"prevalence\",\n    data=prevalence, dodge=True,\n    linewidth=0.2, palette='vlag')\n\n# Sns plot config\nsns.despine(left=True, bottom=True)\n\n# Create aux table for visualization\naux = table_prevalence.round(2)\\\n    .astype(str).replace({'nan': '-'})\n\n# Draw table\ntable = plt.table(cellText=aux.to_numpy(),\n                  rowLabels=aux.index,\n                  colLabels=aux.columns,\n                  cellLoc='center')\ntable.auto_set_font_size(False)\ntable.set_fontsize(7.5)\ntable.scale(1, 3.2)\n\n# Sns config\nsns.despine(left=True, bottom=True)\n\n# Add a legend and informative axis label\nax.set(xlabel='', ylabel='Prevalence (%)', xticks=[],\n       title=\"Monthly dengue prevalence in HTD\")\n\n# Adjust subplots\nplt.subplots_adjust(left=0.2, bottom=0.65)"
      ]
    },
    {
      "cell_type": "markdown",
      "metadata": {},
      "source": [
        "Lets plot the ``heatmaps`` with (i) the monthly dengue prevalence\nper year and (ii) the number of patients with/without dengue used\nto compute such prevalence. It is important to highlight that\nin previous plots some extreme prevalence values (either 0% or\n100%) where found. As shown in the figure below, these correspond\nto months in which there are not enough patients (<4) to\naccurately describe the prevalence.\n\n\n\n"
      ]
    },
    {
      "cell_type": "code",
      "execution_count": null,
      "metadata": {
        "collapsed": false
      },
      "outputs": [],
      "source": [
        "# -----------------------\n# Plot heatmaps\n# ----------------------\n# Create figure\nf, ax = plt.subplots(1, 2, figsize=(14, 6))\nax = ax.flatten()\n\n# Draw a heatmap with the numeric values in each cell\nsns.heatmap(table_prevalence, annot=True, fmt='.2f',\n    annot_kws={'fontsize': 8}, linewidths=.5, ax=ax[0],\n    cmap=sns.cm.rocket_r)\n\n# Configure axes\nax[0].set(title=\"Monthly dengue prevelence (%) in HTD\")\n\n# Draw a heatmap with the numeric values in each cell\nsns.heatmap(table_npatients, annot=True, fmt='.0f',\n    annot_kws={'fontsize': 10}, linewidths=.5, ax=ax[1],\n    cmap=sns.cm.rocket_r)\n\n# Configure axes\nax[1].set(title=\"Number of patients (study) in HTD\")\n\n# Adjust layout\nplt.tight_layout()"
      ]
    },
    {
      "cell_type": "markdown",
      "metadata": {},
      "source": [
        "If we want to check whether the number of patients is directly\naffecting the prevalence seen in the HTD hospital we can plot\ntheir correlation (e.g.) as shown in the picture there is no\nstrong linear correlation between the number of patients and\nthe prevalence.\n\n"
      ]
    },
    {
      "cell_type": "code",
      "execution_count": null,
      "metadata": {
        "collapsed": false
      },
      "outputs": [],
      "source": [
        "# ----------------\n# Plot correlation\n# ----------------\n# Create figure\nf, ax = plt.subplots(1, 1, figsize=(4, 4))\n\n# Palette\ncmap = sns.diverging_palette(220, 10, as_cmap=True)\n\n# Mask\nmask = np.triu(np.ones_like(prevalence.corr(), dtype=np.bool))\n\n# Draw heatmap\nsns.heatmap(prevalence.corr()*100, cmap=cmap, center=0,\n    mask=mask, vmax=100, vmin=-100, square=True, linewidths=0.5,\n    cbar_kws={'shrink':.5}, annot=True, fmt=\".0f\",\n            annot_kws={\"size\": 10})\n\n# Configure axes\nax.set(title=\"Correlation\")\n\n# Show\nplt.show()"
      ]
    }
  ],
  "metadata": {
    "kernelspec": {
      "display_name": "Python 3",
      "language": "python",
      "name": "python3"
    },
    "language_info": {
      "codemirror_mode": {
        "name": "ipython",
        "version": 3
      },
      "file_extension": ".py",
      "mimetype": "text/x-python",
      "name": "python",
      "nbconvert_exporter": "python",
      "pygments_lexer": "ipython3",
      "version": "3.9.1"
    }
  },
  "nbformat": 4,
  "nbformat_minor": 0
}