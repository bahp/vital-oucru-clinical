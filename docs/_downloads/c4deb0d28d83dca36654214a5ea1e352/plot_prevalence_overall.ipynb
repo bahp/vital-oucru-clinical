{
  "cells": [
    {
      "cell_type": "code",
      "execution_count": null,
      "metadata": {
        "collapsed": false
      },
      "outputs": [],
      "source": [
        "%matplotlib inline"
      ]
    },
    {
      "cell_type": "markdown",
      "metadata": {},
      "source": [
        "\n# Monthly prevalence (overall)\n\n<div class=\"alert alert-danger\"><h4>Warning</h4><p>- The features must be static.\n    - Would it help to print ns1_interpretation table?\n    - Should ns1 be a compound of all the ns1?\n    - Would it help to plot the prevalence graph for each dataset?</p></div>\n\n\nThis example computes the prevalence of dengue in the ``HTD`` as the\nproportion of patients which were diagnosed with Dengue based on any\npositive result for the ``NS1``, ``PCR`` or ``serology`` tests. The\nx-axis represents the month and the y-axis the prevalence in %. In\naddition, the number on top of each bar represents the total number\nof patients used to compute the proportion.\n"
      ]
    },
    {
      "cell_type": "code",
      "execution_count": null,
      "metadata": {
        "collapsed": false
      },
      "outputs": [],
      "source": [
        "# Libraries\nimport calendar\nimport pandas as pd\nimport numpy as np\nimport seaborn as sns\nimport matplotlib.pyplot as plt\n\n# DataBlend library\nfrom datablend.core.repair.correctors import oucru_dengue_interpretation_feature\n\n# Seaborn\nsns.set_theme(style=\"whitegrid\")\n\n\n# ---------------------------------\n# Methods\n# ---------------------------------\ndef add_totals(df):\n    \"\"\"Adds total sum for rows/cols.\"\"\"\n    # Add columns\n    df.loc['Total', :] = df.sum(axis=0)\n    df.loc[:, 'Total'] = df.sum(axis=1)\n    df = df.astype(int)\n    # Return\n    return df\n\n\ndef prevalence(x):\n    return (np.sum(x) / len(x)) * 100\n\n\n# ---------------------------------\n# Constants\n# ---------------------------------\n# The data filepath\npath = '../../resources/data/20210313-v0.0.8/combined/combined_tidy.csv'\n\n# Features\nfeatures = ['study_no',\n            'date',\n            'dsource',\n            'pcr_dengue_serotype',\n            'igm_interpretation',\n            'igg_interpretation',\n            'ns1_interpretation',\n            'ns1_plasma_interpretation',\n            'ns1_platelia_interpretation',\n            'ns1_urine_interpretation',\n            'serology_interpretation',\n            'serology_single_interpretation',\n            'serology_paired_interpretation']\n\n# ---------------------------------\n# Main\n# ---------------------------------\n# Read data\ndata = pd.read_csv(path, low_memory=False,\n                         parse_dates=['date'],\n                         usecols=features)\n\n# Format\ndata = data.convert_dtypes()\ndata = data[features]\n\n# Define positive dengue\n#data = dengue_interpretation(data)\n\n# Add dengue interpretation\ndata['dengue_interpretation'] = \\\n    oucru_dengue_interpretation_feature(data,\n        pcr=True, ns1=True, igm=True,\n        paired_igm_igg=True, default=False)\n\n# Overall outcome for patient\npatients = data.groupby('study_no').max()\npatients['month'] = patients.date.dt.month\npatients['year'] = patients.date.dt.year\n\n# PCR serotypes count per dataset\nserotypes = add_totals(pd.crosstab(\n    patients.pcr_dengue_serotype, patients.dsource))\n\n# Serology count per dataset\nserology = add_totals(pd.crosstab(\n    patients.serology_interpretation, patients.dsource\n))\n\n# Dengue interpretation count per dataset\ndengue = add_totals(pd.crosstab(\n    patients.dengue_interpretation, patients.dsource))\n\n# Show\nprint(\"\\nColumns:\")\nprint(data.columns)\nprint(\"\\nPatients:\")\nprint(patients)\nprint(\"\\nSerotypes:\")\nprint(serotypes)\nprint(\"\\nSerology:\")\nprint(serology)\nprint(\"\\nDengue:\")\nprint(dengue)\n\n# Compute prevalence\n# ------------------\n# Datasets where serotype has non-null values.\nidxs = patients.dsource.isin(serotypes.columns)\n\n# Compute prevalence\nprevalence = patients.reset_index().groupby('month').agg(\n    prevalence=('dengue_interpretation', prevalence),\n    n_patients=('study_no', 'count'))\n\n# Add legible labels\nprevalence.index = \\\n    [calendar.month_abbr[x] for x in prevalence.index]\n\n# Show\nprint(\"\\nPrevalence:\")\nprint(prevalence)\n\n\n# ------------------------------------------------\n# Plot\n# ------------------------------------------------\n# Initialize the figure\nf, ax = plt.subplots(figsize=(6, 3))\n\n# Plot\nsns.set_color_codes(\"muted\")\nsns.despine(left=True, bottom=True)\nsns.barplot(x=prevalence.index,\n            y=prevalence.prevalence,\n            label=\"Dengue prevalence\",\n            color=\"b\",\n            linewidth=0.75)\n\n# Add a legend and informative axis label\nax.legend(ncol=2, loc=\"lower right\", frameon=True)\nax.set(xlabel=\"\", ylabel=\"Prevalence (%)\",\n       title=\"Overall dengue prevalence in HTD\")\n\n# Add number of patients considered\nfor i, (index, row) in enumerate(prevalence.iterrows()):\n    ax.text(i, row.prevalence, int(row.n_patients),\n            color='black', ha=\"center\", fontsize=8)\n\n# Show\nplt.show()"
      ]
    }
  ],
  "metadata": {
    "kernelspec": {
      "display_name": "Python 3",
      "language": "python",
      "name": "python3"
    },
    "language_info": {
      "codemirror_mode": {
        "name": "ipython",
        "version": 3
      },
      "file_extension": ".py",
      "mimetype": "text/x-python",
      "name": "python",
      "nbconvert_exporter": "python",
      "pygments_lexer": "ipython3",
      "version": "3.9.1"
    }
  },
  "nbformat": 4,
  "nbformat_minor": 0
}