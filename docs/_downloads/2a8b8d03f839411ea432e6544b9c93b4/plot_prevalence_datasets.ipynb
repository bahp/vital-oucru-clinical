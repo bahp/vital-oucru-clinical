{
  "cells": [
    {
      "cell_type": "code",
      "execution_count": null,
      "metadata": {
        "collapsed": false
      },
      "outputs": [],
      "source": [
        "%matplotlib inline"
      ]
    },
    {
      "cell_type": "markdown",
      "metadata": {},
      "source": [
        "\n# Rolling prevalence (by dsource)\n\nThis example computes the prevalence of dengue in the ``HTD`` as the\nproportion of patients which were diagnosed with Dengue based on any\npositive result for the ``NS1``, ``PCR`` or ``serology`` tests. The\nx-axis represents the time (group by month) and the y-axis the prevalence\nin % the first graph and the number of patients used to compute the\nprevalence in the second graph.\n\n<div class=\"alert alert-danger\"><h4>Warning</h4><p>- As shown in first graph, there is a patient from 14dx that appears\n      in 2019. This should be corrected in the dataset.</p></div>\n"
      ]
    },
    {
      "cell_type": "code",
      "execution_count": null,
      "metadata": {
        "collapsed": false
      },
      "outputs": [],
      "source": [
        "# Libraries\nimport calendar\nimport pandas as pd\nimport numpy as np\nimport seaborn as sns\nimport matplotlib.pyplot as plt\nimport matplotlib.dates as mdates\n\n# DataBlend library\nfrom datablend.core.repair.correctors import oucru_dengue_interpretation_feature\n\n# Seaborn\nsns.set_theme(style=\"whitegrid\")\n\n\n# ---------------------------------\n# Methods\n# ---------------------------------\ndef prevalence(x):\n    return (np.sum(x) / len(x)) * 100\n\ndef label(x, color, label):\n    ax = plt.gca()\n    ax.text(0, .2, label, fontweight=\"bold\",\n        color=color, ha=\"left\", va=\"center\",\n        transform=ax.transAxes)\n\n\n# ---------------------------------\n# Constants\n# ---------------------------------\n# The data filepath\n# The data filepath\npath = '../../resources/data/20210106-v0.0.1/combined/combined_tidy.csv'\n\n# Features\nfeatures = ['study_no',\n            'date',\n            'dsource',\n            'pcr_dengue_serotype',\n            'ns1_interpretation',\n            'igm_interpretation',\n            'igg_interpretation']\n\n# ---------------------------------\n# Main\n# ---------------------------------\n# Read data\ndata = pd.read_csv(path, low_memory=False,\n                         parse_dates=['date'],\n                         usecols=features)\n\n# Format\ndata = data.convert_dtypes()\ndata = data[features]\n\n# Add dengue interpretation\ndata['dengue_interpretation'] = \\\n    oucru_dengue_interpretation_feature(data,\n        pcr=True, ns1=True, igm=True,\n        paired_igm_igg=True, default=False)\n\n# Overall outcome for patient\npatients = data.groupby('study_no').max()\npatients['month'] = patients.date.dt.month\npatients['year'] = patients.date.dt.year\n\n# Show\nprint(\"\\nPatients:\")\nprint(patients)\n\n# Compute prevalence\naux = patients.reset_index() \\\n    .groupby([pd.Grouper(key='date', freq='M'), 'dsource']) \\\n    .agg(prevalence=('dengue_interpretation', prevalence),\n         n_patients=('study_no', 'count')).reset_index()\n\n# Show\nprint(\"\\nTable\")\nprint(aux)\n\n# Create palette\npal = sns.cubehelix_palette(10, rot=-.25, light=.7)\n\n# ---------------------------\n# Plot prevalence\n# ---------------------------\n# Configure\nsns.set_style(\"whitegrid\", {\n    \"ytick.major.size\": 0.1,\n    \"ytick.minor.size\": 0.05,\n    'grid.linestyle': '--'\n})\n\n# Create facetgrid\ng1 = sns.FacetGrid(aux, row='dsource', hue='dsource',\n    height=1, sharex=True, aspect=15, palette=pal)\n\n# Plot lines\ng1.map(sns.lineplot, \"date\", \"prevalence\")\n\n# Configure axes\ng1.map(plt.axhline, y=0, lw=2, clip_on=False)\ng1.map(label, \"dsource\")\ng1.map(plt.fill_between, \"date\", \"prevalence\")\n\n# Configure axes\ng1.set_titles(\"\")\ng1.set(yticks=[25, 50, 75, 100], ylabel='', xlabel='')\ng1.despine(bottom=True, left=True)\ng1.fig.subplots_adjust(hspace=0.02)\n\n# Configure ticks\nax = plt.gca()\nax.xaxis.set_major_locator(mdates.YearLocator())\nax.xaxis.set_major_formatter(mdates.DateFormatter(\"%Y\"))\nax.xaxis.set_minor_formatter(mdates.DateFormatter(\"%Y\"))\n\n# Suptitle\nplt.suptitle('Monthly prevalence (%) by dataset')\n\n\n# ---------------------------\n# Plot n_patients\n# ---------------------------\n# Configure\nsns.set_style(\"whitegrid\", {\n    \"ytick.major.size\": 0.1,\n    \"ytick.minor.size\": 0.05,\n    'grid.linestyle': '--'\n})\n\n# Create facetgrid\ng2 = sns.FacetGrid(aux, row='dsource', hue='dsource',\n    height=1, sharex=True, aspect=13, palette=pal)\n\n# Plot lines\ng2.map(sns.lineplot, \"date\", \"n_patients\")\n\n# Plot extra\ng2.map(plt.axhline, y=0, lw=2, clip_on=False)\ng2.map(label, \"dsource\")\ng2.map(plt.fill_between, \"date\", \"n_patients\")\n\n# Configure axes\ng2.set_titles(\"\")\ng2.set(yticks=[100, 200, 300, 400], ylabel='', xlabel='')\ng2.despine(bottom=True, left=True)\ng2.fig.subplots_adjust(hspace=0.02)\n\n# Configure ticks\nax = plt.gca()\nax.xaxis.set_major_locator(mdates.YearLocator())\nax.xaxis.set_major_formatter(mdates.DateFormatter(\"%Y\"))\nax.xaxis.set_minor_formatter(mdates.DateFormatter(\"%Y\"))\n\n# Sup title\nplt.suptitle('Monthly #Patients by dataset')\n\n# Show\nplt.show()"
      ]
    }
  ],
  "metadata": {
    "kernelspec": {
      "display_name": "Python 3",
      "language": "python",
      "name": "python3"
    },
    "language_info": {
      "codemirror_mode": {
        "name": "ipython",
        "version": 3
      },
      "file_extension": ".py",
      "mimetype": "text/x-python",
      "name": "python",
      "nbconvert_exporter": "python",
      "pygments_lexer": "ipython3",
      "version": "3.9.1"
    }
  },
  "nbformat": 4,
  "nbformat_minor": 0
}