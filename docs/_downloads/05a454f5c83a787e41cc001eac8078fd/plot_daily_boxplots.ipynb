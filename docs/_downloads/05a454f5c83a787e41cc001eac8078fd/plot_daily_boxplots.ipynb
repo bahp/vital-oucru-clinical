{
  "cells": [
    {
      "cell_type": "code",
      "execution_count": null,
      "metadata": {
        "collapsed": false
      },
      "outputs": [],
      "source": [
        "%matplotlib inline"
      ]
    },
    {
      "cell_type": "markdown",
      "metadata": {},
      "source": [
        "\n# Daily biomarker per dengue_interpretation (onset)\n\n.. todo:: Full explanation\n"
      ]
    },
    {
      "cell_type": "code",
      "execution_count": null,
      "metadata": {
        "collapsed": false
      },
      "outputs": [],
      "source": [
        "# Libraries\nimport pandas as pd\nimport seaborn as sns\nimport matplotlib.pyplot as plt\nfrom matplotlib import rcParams\n\n# DataBlend library\nfrom datablend.core.repair.correctors import oucru_dengue_interpretation_feature\nfrom datablend.core.repair.correctors import day_from_day_values\n\n# -----------------------------------\n# Configuration\n# -----------------------------------\n# Update\nrcParams.update(\n    {'font.size': 9,\n     'axes.labelsize': 'large',\n     'ytick.labelsize': 'large',\n     'xtick.labelsize': 'large'\n     })\n\n# -----------------------------------\n# Methods\n# -----------------------------------\n\n# -----------------------------------\n# Constants\n# -----------------------------------\n# Path with data\npath_data = '../../../resources/data/20210313-v0.0.8/'\npath_data+= 'combined/combined_tidy.csv'\n\n\nrename = {\n    'haematocrit_percent': 'hct',\n    'respiratory_rate': 'rr'\n}\n\nNRR = {\n    'plt': [140, 350],\n    'haematocrit_percent': [35, 49],\n    'albumin': [35, 55],\n    'wbc': [3.5, 9.0]\n}\n\nFEATURES = [\n    'plt',                   # keep\n    'haematocrit_percent',   # keep\n    # 'haemoglobin',         # too binary\n    'albumin',               # keep\n    'alt',                   # keep\n    'ast',                   # keep\n    'wbc',                   # keep\n    # 'creatine_kinase',     # only beginning\n    # 'lymphocytes',         # only beginning\n    # 'monocytes',           # only beginning\n    # 'neutrophils',         # only beginning\n    # 'creatinine',          # so so\n    # 'crp',                 # not much data\n    # 'procalcitonin',       # not much data\n    # 'sbp',                 # too binary\n    # 'dbp',                 # too binary\n    # 'pulse',\n    # 'pulse_pressure',\n    # 'respiratory_rate',\n    # 'body_temperature',\n    # 'spo2_percent',\n]\n\n# The due to separate\nHUE = 'dengue_interpretation'\n\n# The day column to use\n#   - day_from_onset\n#   - day_from_admission\n#   - day_from_enrolment\n#   - day_from_illness (manually by clinicians)\nDAY_COLUMN = 'day_from_onset'\n\n# ------------------------------\n# Load data\n# ------------------------------\n# Load data\noriginal = pd.read_csv(path_data,\n    index_col=0,\n    low_memory=False,\n    #nrows=1000000,\n    parse_dates=['date'])\n\n# Copy data\ndata = original.copy(deep=True)\ndata = data.convert_dtypes()\n\n# Create dengue interpretation\ndata['dengue_interpretation'] = \\\n    oucru_dengue_interpretation_feature(data,\n        pcr=True, ns1=True, igm=True, serology=True,\n        single_igm_igg=True, paired_igm_igg=True,\n        default=False)\n\n# Need to remove outliers earlier on!\nidxs = data.plt > 1000\ndata.loc[idxs, 'plt'] = None\n\n\n\"\"\"\n# Correct day from illness\n# TOO SLOW!\naux = \\\n    data.groupby('study_no') \\\n        .apply(day_from_day_values) \\\n        .droplevel(level=0, axis=0) \\\n        .dt.days\n\"\"\"\n\n# Create day for x-axis.\ndata['day'] = data[DAY_COLUMN]\ndata.day = data.day.fillna(-2000).astype(int)\ndata = data[data.day.between(0, 20)]\n\n# Drop columns with all NaN.\ndata = data.dropna(how='all', axis=1)\n\n# Show information\nprint(\"\\nDengue count:\")\nprint(data.dengue_interpretation.value_counts())\n\n# Rename this variables...\na =  data[FEATURES + ['day', 'dengue_interpretation']]\na = a.groupby(by=['day', 'dengue_interpretation']).count().unstack()\n\nb =  data[FEATURES + ['day', 'dsource']]\nb = b.groupby(by=['day', 'dsource']).count().unstack()\n\n# --------------------------------\n# Plot the biomarker distributions\n# --------------------------------\n# .. note:: Could this be done nicely without a loop by using\n#           some of the seaborn functionality such as the\n#           FaceGrid? Note we can also incorporate the hue.\n\n# Loop\nfor i, c in enumerate(FEATURES):\n\n    # Draw\n    print(\"  Drawing... %s.\" % c)\n\n    # Create figure\n    fig, ax = \\\n        plt.subplots(1, 1, figsize=(8, 5))\n\n    # Configuration and plot\n    sns.set_color_codes(\"muted\")\n    sns.boxplot(x=data.day, y=data[c], whis=1.5,\n                hue='dengue_interpretation',\n                fliersize=0, showfliers=False,\n                linewidth=0.75, saturation=0.75,\n                palette='Set3', data=data, ax=ax)\n\n    # Draw normal reference range\n    if c in NRR:\n        ax.fill_between(x=sorted(data.day.values),\n             y1=NRR[c][0], y2=NRR[c][1], color='#D3D3D3',\n             alpha=0.25, zorder=0)\n\n    # Create aux table for visualization\n    aux = a[c].T.astype(str).replace({'nan': '-'})\n\n    # Draw table\n    table = plt.table(cellText=aux.to_numpy(),\n                      rowLabels=aux.index,\n                      colLabels=aux.columns,\n                      cellLoc='center')\n    table.auto_set_font_size(False)\n    table.set_fontsize(8)\n    table.scale(1, 3.2)\n\n    # Sns plot config\n    sns.despine(left=True, bottom=True)\n\n    # Configure axes\n    ax.set(xlabel=\"\", xticks=[], xticklabels=[],\n        title='<{0}> distribution group by <{1}> for <{2}>' \\\n            .format(c, HUE, DAY_COLUMN))\n    #axes[i].get_legend().remove()\n\n    # Adjust subplots\n    #plt.legend(loc='upper left')\n    plt.subplots_adjust(left=0.08, bottom=0.4, right=0.95)\n    #plt.tight_layout()"
      ]
    },
    {
      "cell_type": "markdown",
      "metadata": {},
      "source": [
        "Lets plot the ``overall`` count of samples for each dataset and day. Note\nthat some datasets (13dx and md) have a much larger number of patients\nand therefore the colors are \"biased\" towards them.\n\n\n"
      ]
    },
    {
      "cell_type": "code",
      "execution_count": null,
      "metadata": {
        "collapsed": false
      },
      "outputs": [],
      "source": [
        "# Configuration\nn_cols = 2\nn_rows = round(len(FEATURES) / n_cols)\n\n# -----------------------\n# Plot heatmaps\n# ----------------------\n# Create figure\nf, axes = plt.subplots(n_rows, n_cols,\n    figsize=(14, 8), sharex=True, sharey=True)\n\n# Flatten\naxes = axes.flatten()\n\n# Loop\nfor i, f in enumerate(FEATURES):\n\n    # Show\n    print(\"\\n\\n%s:\" % f)\n    print(b[f].T)\n\n    # Draw a heatmap with the numeric values in each cell\n    sns.heatmap(b[f].T, annot=True, fmt='.0f',\n        annot_kws={'fontsize': 8}, linewidths=.5,\n        ax=axes[i], cmap=sns.cm.rocket_r)\n\n    # Configure axes\n    axes[i].set(xlabel=\"\", title='<%s>' % f)\n\n# Adjust\nplt.tight_layout()"
      ]
    },
    {
      "cell_type": "markdown",
      "metadata": {},
      "source": [
        "Lets plot the ``normalized`` count of samples for each individual dataset\nand the corresponding day\n\nsphinx_gallery_thumbnail_number = 7\n\n"
      ]
    },
    {
      "cell_type": "code",
      "execution_count": null,
      "metadata": {
        "collapsed": false
      },
      "outputs": [],
      "source": [
        "# -----------------------\n# Plot heatmaps\n# ----------------------\n# Create figure\nf, axes = plt.subplots(n_rows, n_cols,\n    figsize=(14, 8), sharex=True, sharey=True)\n\n# Flatten\naxes = axes.flatten()\n\n# Loop\nfor i, f in enumerate(FEATURES):\n\n    # Compute normalised\n    norm = b[f].divide(b[f].max()).T\n\n    # Print\n    print(\"\\n\\n%s:\" % f)\n    print(norm)\n\n    # Draw a heatmap with the numeric values in each cell\n    sns.heatmap(norm*100, annot=True, fmt='.0f',\n        annot_kws={'fontsize': 8}, linewidths=.5,\n        ax=axes[i], cmap=sns.cm.rocket_r)\n\n    # Configure axes\n    axes[i].set(xlabel=\"\", title='<%s>' % f)\n\n# Adjust\nplt.tight_layout()\n\n# Plot\nplt.show()\n\na = 0"
      ]
    }
  ],
  "metadata": {
    "kernelspec": {
      "display_name": "Python 3",
      "language": "python",
      "name": "python3"
    },
    "language_info": {
      "codemirror_mode": {
        "name": "ipython",
        "version": 3
      },
      "file_extension": ".py",
      "mimetype": "text/x-python",
      "name": "python",
      "nbconvert_exporter": "python",
      "pygments_lexer": "ipython3",
      "version": "3.9.1"
    }
  },
  "nbformat": 4,
  "nbformat_minor": 0
}