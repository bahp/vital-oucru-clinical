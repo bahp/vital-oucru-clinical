{
  "cells": [
    {
      "cell_type": "code",
      "execution_count": null,
      "metadata": {
        "collapsed": false
      },
      "outputs": [],
      "source": [
        "%matplotlib inline"
      ]
    },
    {
      "cell_type": "markdown",
      "metadata": {},
      "source": [
        "\n# Datasets Profiles\n"
      ]
    },
    {
      "cell_type": "code",
      "execution_count": null,
      "metadata": {
        "collapsed": false
      },
      "outputs": [],
      "source": [
        "\"\"\"\n# Libraries\nimport pandas as pd\nimport warnings\n\n# Specific libraries\nfrom pathlib import Path\n\n# Libraries\nfrom pandas_profiling import ProfileReport\nfrom dataprep.eda import create_report\n\n# Ingore warnings\nwarnings.simplefilter(\"ignore\")\n\n# -----------------------------------\n# Constants\n# -----------------------------------\n# Path with raw data.\npath_data = Path('../../resources/data/20212002-v0.2/tidy')\npath_report = Path('../../docs/source/_static/datasets/')\npath_dataprep = path_report / 'profile-dataprep'\npath_pdprofile = path_report / 'profile-pandas'\n\n# Path where output HTML file should be stored.\noutpath = '../../docs/source/_static/feature_count.html'\n\nREPORT_PARTIAL = False\nPANDAS_PROFILE = False\nDATAPREP_PROFILE = False\n\n# ------------------------------\n# Create paths\n# ------------------------------\n# Create paths if they dont exist\npath_dataprep.mkdir(parents=True, exist_ok=True)\npath_pdprofile.mkdir(parents=True, exist_ok=True)\n\n# ------------------------------\n# Load data\n# ------------------------------\n# Initialise\ndata = {}\n\n# Loop filling data\nfor path in sorted(list(path_data.glob('**/*.csv'))):\n    if not REPORT_PARTIAL:\n        continue\n\n    try:\n        # Show information\n        print(\"Loading... %s\" % path.stem)\n\n        # Load data\n        data[path.name] = pd.read_csv(path,\n            parse_dates=['date'])\n\n        # Define information\n        title = 'OUCRU - {0}'.format(path.name)\n\n        # Columns with > 1 unique values\n        columns = data[path.name].nunique() > 1\n        columns = columns[columns].index.values\n        datavld = data[path.name][columns]\n\n        # Generate data-prep report\n        # -------------------------\n        if DATAPREP_PROFILE:\n            report = create_report(datavld, title=title)\n            report.save('{0}/{1}'\n                .format(path_dataprep, path.stem))\n\n        # Generate pandas-profile report\n        # ------------------------------\n        if PANDAS_PROFILE:\n            profile = ProfileReport(datavld, title=title)\n            profile.to_file('{0}/{1}.html'\n                .format(path_pdprofile, path.stem))\n\n    except Exception as e:\n        print(\"Error\", e)\n\n\"\"\"\n\"\"\"\n# ------------------------------\n# Load data\n# ------------------------------\n# Path\npath = Path('./resources/datasets/combined/combined_tidy.csv')\n\n# Data\ndata = pd.read_csv(path,\n    parse_dates=['date'])\n\n# Columns with > 1 unique values\ncolumns = data.nunique() > 1\ncolumns = columns[columns].index.values\n\n# Filter\ndata = data[columns]\n\n# Title\ntitle = 'OUCRU - {0}'.format(path.name)\n\n# Generate data-prep report\n# -------------------------\nif DATAPREP_PROFILE:\n    report = create_report(data, title=title)\n    report.save('{0}/profile-dataprep/{1}'\n                .format(path_report, path.stem))\n\n# Generate pandas-profile report\n# ------------------------------\nif PANDAS_PROFILE:\n    profile = ProfileReport(data, title=title, explorative=True)\n    profile.to_file('{0}/profile-pandas/{1}.html'\n                    .format(path_report, path.stem))\n\"\"\""
      ]
    }
  ],
  "metadata": {
    "kernelspec": {
      "display_name": "Python 3",
      "language": "python",
      "name": "python3"
    },
    "language_info": {
      "codemirror_mode": {
        "name": "ipython",
        "version": 3
      },
      "file_extension": ".py",
      "mimetype": "text/x-python",
      "name": "python",
      "nbconvert_exporter": "python",
      "pygments_lexer": "ipython3",
      "version": "3.9.1"
    }
  },
  "nbformat": 4,
  "nbformat_minor": 0
}