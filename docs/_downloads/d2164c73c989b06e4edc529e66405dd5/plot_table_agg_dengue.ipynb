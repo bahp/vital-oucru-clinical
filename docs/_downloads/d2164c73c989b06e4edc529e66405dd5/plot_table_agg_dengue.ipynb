{
  "cells": [
    {
      "cell_type": "code",
      "execution_count": null,
      "metadata": {
        "collapsed": false
      },
      "outputs": [],
      "source": [
        "%matplotlib inline"
      ]
    },
    {
      "cell_type": "markdown",
      "metadata": {},
      "source": [
        "\n# dengue_interpretation\n\n.. todo:: Full explanation\n"
      ]
    },
    {
      "cell_type": "markdown",
      "metadata": {},
      "source": [
        ".. raw:: html\n    :file: ../../../../_static/datasets/html-tables/plot_table_agg_dengue.html\n\n|\n|\n\n"
      ]
    },
    {
      "cell_type": "code",
      "execution_count": null,
      "metadata": {
        "collapsed": false
      },
      "outputs": [],
      "source": [
        "# Libraries\nimport os\nimport sys\nimport numpy as np\nimport pandas as pd\n\n# Import TableOne\nfrom tableone import TableOne\n\n# Import DataBlend\nfrom datablend.core.repair.correctors import oucru_dengue_interpretation_feature\n\n# ---------------------------------\n# Methods\n# ---------------------------------\ndef filename():\n    \"\"\"Get filename\"\"\"\n    try:\n        return os.path.basename(__file__)[:-3]\n    except:\n        return os.path.basename(sys.argv[0])[:-3]\n\ndef build_html_tableone(table, tag):\n    \"\"\"This methods appends the table in HTML.\n\n    Parameters\n    ----------\n    HTLM: str\n        The HTML output.\n    table: TableOne\n        The table to append\n    tag: str\n        The tag for the bulletpoint.\n\n    Return\n    ------\n    str\n        HTML with appended table.\n    \"\"\"\n\n    # Partial HTML\n    html_aux = table.tabulate(tablefmt=\"html\")\n\n    # In contrast to to_html, the tablefmt does not add style\n    # to te table. Thus, we will set the border and class\n    # manually.\n    html_aux = html_aux.replace('<table>', \\\n        '<table border=\"1\" class=\"dataframe\">')\n\n    # Store all tables in HTML\n    html_aux = \"<br><br>&#9726;Dataset <b>{0}</b>:<br>{1}<br>\" \\\n        .format(tag, html_aux)\n\n    # Return\n    return html_aux\n\n# ---------------------------------\n# Constants\n# ---------------------------------\n# The data filepath\npath = '../../../../resources/data/20210309-v0.7/'\npath+= 'combined/combined_tidy.csv'\n\n# TableOne\n# --------\n# Columns\ncolumns = ['age', 'gender', 'day_from_illness',\n           'plt', 'wbc', 'haematocrit_percent',\n           'albumin', 'ast', 'alt',\n           'fluid_accumulation']\n\n# Categorical\ncategorical = ['gender', 'fluid_accumulation']\n\n# Groupby\ngroupby = ['dengue_interpretation']\n\n# Non normal\nnonnormal = ['age', 'plt', 'wbc', 'albumin',\n             'ast', 'haematocrit_percent',\n             'alt', 'day_from_illness']\n\n# Rename\nrename = {\n    'day_from_illness': 'day',\n    'haematocrit_percent': 'hct',\n    'albumin': 'alb',\n    'fluid_accumulation': 'Fluid acumm.'\n}\n\n# ---------------------------------\n# Main\n# ---------------------------------\n# ..note :: In manuscript 32dx, 2017 the variable fluid accumulation\n#           defined pleural effusion and/or ascites. Also important,\n#           they present lactate but it is not available on our data.\n\n# Read data\ndata = pd.read_csv(path,\n    #nrows=1000,\n    #index_col=0,\n    low_memory=False,\n    parse_dates=['date'])\n\n# Add dengue interpretation\ndata['dengue_interpretation'] = \\\n    oucru_dengue_interpretation_feature(data,\n        pcr=True, ns1=True, igm=True, serology=True,\n        single_igm_igg=True, paired_igm_igg=True,\n        default=False)\n\n# Add fluid accumulation\ndata['fluid_accumulation'] = \\\n    data.pleural_effusion | data.ascites\n\n\nHTML = \"\"\n\n# -------\n# Overall\n# -------\n# Create table\nmytable = TableOne(data, columns=columns,\n    categorical=categorical, groupby=groupby,\n    nonnormal=nonnormal, pval=True, rename=rename,\n    sort=True, missing=False, htest_name=False,\n    min_max=None, label_suffix=True, limit=5)\n\n# Append mytable in HTML\nHTML+= build_html_tableone(mytable, 'Aggregated')\n\n\n# ----------------\n# For each dataset\n# ----------------\nfor i, df in data.groupby('dsource'):\n\n    # Remove columns with all NaN\n    df = df.dropna(how='all', axis=1)\n\n    # --------\n    # TableOne\n    # --------\n    # Ensure they are in the df\n    df_cols = list(set(columns).intersection(df.columns))\n    df_cate = list(set(categorical).intersection(df.columns))\n    df_gpby = list(set(groupby).intersection(df.columns))\n    df_nonn = list(set(nonnormal).intersection(df.columns))\n    df_rnme = {k:v for k,v in rename.items() if k in df.columns}\n\n\n    try:\n        # Create table\n        mytable = TableOne(df, columns=df_cols,\n            categorical=df_cate, groupby=df_gpby,\n            nonnormal=df_nonn, pval=True, rename=df_rnme,\n            sort=True, missing=False, htest_name=False,\n            min_max=None, label_suffix=True, limit=5)\n\n        # Append mytable in HTML\n        HTML+= build_html_tableone(mytable, i)\n    except Exception as e:\n        HTML+= \"<br><br>&#9726;Dataset <b>{0}</b>:<br>{1}<br>\"\\\n            .format(i, e)\n\n\n# Save the result (so that it is loaded in .rst)\nPATH = '../../../../docs/source/_static/'\nPATH+= 'datasets/html-tables/{0}.html'\n\n# Write file (so that it is loaded in .rst)\nf = open(PATH.format(filename()), \"w+\", encoding='utf8')\nf.write(HTML)\nf.close()\n\n\n\n\n\"\"\"\ndef keep_nunique_ge(data, th=1000):\n    return data.loc[:, data.nunique() >= th].columns\n\n\ndef keep_pmissing_le(data, th=50):\n    # Compute missing percentages\n    mp = data.isnull().sum() * 100 / len(data)\n    # Filter by missing percentages\n    return data.loc[:, mp < th].columns\n\n\n# Columns to keep\nkeep1 = keep_nunique_ge(data, th=1000)\nkeep2 = keep_pmissing_le(data, th=50)\n\n# Copy dataset\nkeep = data.copy(deep=True)\nkeep = keep[keep_pmissing_le(data, th=75)]\nkeep = keep.drop(columns=['Unnamed: 0',\n                          'date',\n                          'study_no',\n                          'parental_fluid'])\n\n# Categorical\ncategorical = keep.convert_dtypes() \\\n    .select_dtypes(include=['boolean', 'object']) \\\n    .columns.tolist()\n\n# Non-normal\nnonnormal = keep.convert_dtypes() \\\n    .select_dtypes(include=['Int64', 'Float64']) \\\n    .columns.tolist()\n\n# Columns\ncolumns = categorical + nonnormal\n\ngroupby = ['dengue_interpretation']\n\n# One table for labs and one table for examination!\n\n# Compute table\nmytable = TableOne(data, columns=columns,\n    categorical=categorical, nonnormal=nonnormal,\n    groupby=groupby,\n    pval=False, rename={}, sort=True, missing=True,\n    htest_name=True, min_max=None, label_suffix=False,\n    limit=5)\n\nprint(mytable.tabulate(tablefmt=\"fancy_grid\"))\n\nimport sys\nsys.exit()\n\"\"\"\n\na = 1"
      ]
    }
  ],
  "metadata": {
    "kernelspec": {
      "display_name": "Python 3",
      "language": "python",
      "name": "python3"
    },
    "language_info": {
      "codemirror_mode": {
        "name": "ipython",
        "version": 3
      },
      "file_extension": ".py",
      "mimetype": "text/x-python",
      "name": "python",
      "nbconvert_exporter": "python",
      "pygments_lexer": "ipython3",
      "version": "3.8.3"
    }
  },
  "nbformat": 4,
  "nbformat_minor": 0
}