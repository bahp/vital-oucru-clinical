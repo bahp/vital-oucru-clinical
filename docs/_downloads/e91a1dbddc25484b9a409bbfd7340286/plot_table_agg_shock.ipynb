{
  "cells": [
    {
      "cell_type": "code",
      "execution_count": null,
      "metadata": {
        "collapsed": false
      },
      "outputs": [],
      "source": [
        "%matplotlib inline"
      ]
    },
    {
      "cell_type": "markdown",
      "metadata": {},
      "source": [
        "\n# shock_type\n\n.. todo:: Full explanation\n"
      ]
    },
    {
      "cell_type": "markdown",
      "metadata": {},
      "source": [
        ".. raw:: html\n    :file: ../../../../_static/datasets/html-tables/plot_table_dsource_shock.html\n\n|\n|\n\n"
      ]
    },
    {
      "cell_type": "code",
      "execution_count": null,
      "metadata": {
        "collapsed": false
      },
      "outputs": [],
      "source": [
        "# Libraries\nimport os\nimport sys\nimport pandas as pd\n\n# Import TableOne\nfrom tableone import TableOne\n\n\n# ---------------------------------\n# Methods\n# ---------------------------------\ndef filename():\n    \"\"\"Get filename\"\"\"\n    try:\n        return os.path.basename(__file__)[:-3]\n    except:\n        return os.path.basename(sys.argv[0])[:-3]\n\ndef build_html_tableone(table, tag):\n    \"\"\"This methods appends the table in HTML.\n\n    Parameters\n    ----------\n    HTLM: str\n        The HTML output.\n    table: TableOne\n        The table to append\n    tag: str\n        The tag for the bulletpoint.\n\n    Return\n    ------\n    str\n        HTML with appended table.\n    \"\"\"\n\n    # Partial HTML\n    html_aux = table.tabulate(tablefmt=\"html\")\n\n    # In contrast to to_html, the tablefmt does not add style\n    # to te table. Thus, we will set the border and class\n    # manually.\n    html_aux = html_aux.replace('<table>', \\\n        '<table border=\"1\" class=\"dataframe\">')\n\n    # Store all tables in HTML\n    html_aux = \"<br><br>&#9726;Dataset <b>{0}</b>:<br>{1}<br>\" \\\n        .format(tag, html_aux)\n\n    # Return\n    return html_aux\n\ndef shock_type_faeture(tidy, default='No Shock'):\n    \"\"\"Creates the shock type.\n\n    .. note: Order is important because the column data.shock\n             represents patients with either single or multiple\n             shocks.\n\n    .. todo: Move this method to library.\n\n    Parameters\n    ----------\n\n    Returns\n    -------\n\n    \"\"\"\n    # Create series\n    shock_type = \\\n        pd.Series(index=tidy.index, data=default, dtype='object')\n\n    # Set single shocks\n    shock_type[data.shock.fillna(False)] = 'Shock'\n\n    # Set multiple shocks\n    shock_type[data.shock_multiple.fillna(False)] = 'Shock Recurrent'\n\n    # Return\n    return shock_type\n\n\n# ---------------------------------\n# Constants\n# ---------------------------------\n# The data filepath\npath = '../../../../resources/data/20210309-v0.7/'\npath+= 'combined/combined_tidy.csv'\n\n# TableOne\n# --------\n# Selected columns\ncolumns = ['age', 'gender', 'day_from_illness',\n           'plt', 'wbc', 'haematocrit_percent',\n           'albumin', 'ast', 'alt',\n           'fluid_accumulation']\n\n# Categorical features\ncategorical = ['gender',\n               'fluid_accumulation']\n\n# Groupby\ngroupby = ['shock_type']\n\n# Non normal\nnonnormal = ['age', 'plt', 'wbc', 'albumin',\n             'ast', 'haematocrit_percent',\n             'alt', 'day_from_illness']\n\n# Rename labels.\nrename = {\n    'day_from_illness': 'day',\n    'haematocrit_percent': 'hct',\n    'albumin': 'alb',\n    'fluid_accumulation': 'Fluid acumm.'\n}\n\n# ---------------------------------\n# Main\n# ---------------------------------\n\n# Read data\ndata = pd.read_csv(path,\n    low_memory=False,\n    #nrows=10000,\n    parse_dates=['date'])\n\n# Add fluid accumulation\ndata['fluid_accumulation'] = \\\n    data.pleural_effusion | data.ascites\n\n# Add shock type categories\ndata['shock_type'] = \\\n    shock_type_faeture(data)\n\nHTML = \"\"\n\n\n# -------\n# Overall\n# -------\n# Create table\nmytable = TableOne(data, columns=columns,\n    categorical=categorical, groupby=groupby,\n    nonnormal=nonnormal, pval=True, rename=rename,\n    sort=True, missing=False, htest_name=False,\n    min_max=None, label_suffix=True, limit=5)\n\n# Append mytable in HTML\nHTML+= build_html_tableone(mytable, 'Aggregated')\n\n\n# ----------------\n# For each dataset\n# ----------------\nfor i, df in data.groupby('dsource'):\n\n    # Remove columns with all NaN\n    df = df.dropna(how='all', axis=1)\n\n    # --------\n    # TableOne\n    # --------\n    # Ensure they are in the df\n    df_cols = list(set(columns).intersection(df.columns))\n    df_cate = list(set(categorical).intersection(df.columns))\n    df_gpby = list(set(groupby).intersection(df.columns))\n    df_nonn = list(set(nonnormal).intersection(df.columns))\n    df_rnme = {k:v for k,v in rename.items() if k in df.columns}\n\n    # Create table\n    mytable = TableOne(df, columns=df_cols,\n        categorical=df_cate, groupby=df_gpby,\n        nonnormal=df_nonn, pval=True, rename=df_rnme,\n        sort=True, missing=False, htest_name=False,\n        min_max=None, label_suffix=True, limit=5)\n\n    # Append mytable in HTML\n    HTML+= build_html_tableone(mytable, i)\n\n\n# Configuration\n# Save the result (so that it is loaded in .rst)\nPATH = '../../../../docs/source/_static/'\nPATH+= 'datasets/html-tables/{0}.html'\n\n# Write file (so that it is loaded in .rst)\nf = open(PATH.format(filename()), \"w+\", encoding='utf8')\nf.write(HTML)\nf.close()\n\na = 0"
      ]
    }
  ],
  "metadata": {
    "kernelspec": {
      "display_name": "Python 3",
      "language": "python",
      "name": "python3"
    },
    "language_info": {
      "codemirror_mode": {
        "name": "ipython",
        "version": 3
      },
      "file_extension": ".py",
      "mimetype": "text/x-python",
      "name": "python",
      "nbconvert_exporter": "python",
      "pygments_lexer": "ipython3",
      "version": "3.8.3"
    }
  },
  "nbformat": 4,
  "nbformat_minor": 0
}