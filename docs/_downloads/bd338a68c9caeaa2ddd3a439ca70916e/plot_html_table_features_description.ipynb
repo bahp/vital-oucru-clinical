{
  "cells": [
    {
      "cell_type": "code",
      "execution_count": null,
      "metadata": {
        "collapsed": false
      },
      "outputs": [],
      "source": [
        "%matplotlib inline"
      ]
    },
    {
      "cell_type": "markdown",
      "metadata": {},
      "source": [
        "\n# Datasets Description\n"
      ]
    },
    {
      "cell_type": "code",
      "execution_count": null,
      "metadata": {
        "collapsed": false
      },
      "outputs": [],
      "source": [
        "# Libraries\nimport yaml\nimport json\nimport pandas as pd\n\n# ---------------------------------\n# Methods\n# ---------------------------------\ndef create_dataframe(data, features):\n    \"\"\"Creates the DataFrame.\n\n    Parameters\n    ----------\n    data: pd.DataFrame\n        The data in tidy format.\n    features: pd.DataFrame\n        Additional feature information.\n\n    Returns\n    -------\n    pd.DataFrame\n        Combined description.\n    \"\"\"\n\n    # Copy just in case\n    aux = data.copy(deep=True)\n\n    # Drop empty columns\n    aux = aux.dropna(axis=1, how='all')\n\n    # Modify\n    aux = aux.convert_dtypes()\n\n    # Create describe table\n    describe = aux.describe(include='all',\n        datetime_is_numeric=True).T\n\n    # Add interesting information (before merge)\n    describe['dtype'] = aux.dtypes\n    describe['nunique'] = aux.agg('nunique', dropna=False)\n    describe['unique'] = aux.applymap(str) \\\n        .agg(lambda x: sorted(list(x.unique())))\n\n\n    # Sort without nan? convert nan to something??\n\n    # Remove those with too much information\n    describe.loc[describe['nunique'] > 1000, 'unique'] = None\n\n    # Show also nunique (otherwise we might think they do not have values!)\n\n    # Merge with yaml information\n    describe = describe.merge(features,\n        how='left', left_index=True, right_on='name')\n\n    # Format\n    #describe.range = describe.range.apply(f)\n    #describe.range = describe.range.apply(json.dumps)\n    describe = describe.fillna('-')\n    describe = describe.applymap(str)\n    describe = describe.reset_index()\n\n    # Return\n    return describe\n\n\n# ---------------------------------\n# Constants\n# ---------------------------------\n# Path with data\npath_data = '../../resources/data/20210313-v0.0.8/'\npath_data+= 'combined/combined_tidy.csv'\n\n# Path with yaml configuration\npath_yaml =  './corrector.yaml'\n\n# Path to load the HTML table template\npath_html_template = './template_features_description.html'\n\n# Path to save the HTML file\npath_html_tables = '../../docs/source/_static/datasets/html-tables/'\n\n# File name\nfilename = 'features_description_%s.html'\n\n# Columns to include\ncolumns = ['name',\n           'dtype',\n           'unit',\n           'code',\n           'ctype',\n           'categories',\n           'description',\n           'unique',\n           'nunique',\n           'transformations',\n           'range',\n           'warning']\n\n# ---------------------------------\n# Main\n# ---------------------------------\n# Read data\ndata = pd.read_csv(path_data,\n    low_memory=False, parse_dates=['date'])\n\n# Read yaml configuration\nfeatures = pd.DataFrame( \\\n    yaml.load(open(path_yaml, 'r', encoding='utf8'),\n        Loader=yaml.FullLoader)['features'])\n\n# Create describe\ndescribe = create_dataframe(data, features)\n\n# Create HTML for table\nhtml_table = describe.to_html(columns=columns,\n                              table_id='example',\n                              classes='display',\n                              border=0)\n\ndescribe.to_csv('test.csv')\n\n# Create full HTML path\npath_html_output = path_html_tables + filename % 'combined'\n\n# Load template and save HTML table file\nwith open(path_html_template, 'r', encoding='utf8') as template, \\\n     open(path_html_output, \"w+\", encoding='utf8') as table:\n\n    # Create html\n    html = template.read() % html_table\n\n    # Save HTML table file\n    table.write(html)\n    table.close()\n    template.close()\n\n\n\nCOMPUTE = True\n\nif COMPUTE:\n\n    # -----------------------------\n    # For each dataset individually\n    # -----------------------------\n    for i, df in data.groupby('dsource'):\n\n        # Name\n        path_html_output = path_html_tables + filename % i\n\n        # Create describe\n        describe = create_dataframe(df, features)\n\n        # Create HTML for table\n        html_table = describe.to_html(columns=columns,\n                                      table_id='example',\n                                      classes='display',\n                                      border=0)\n\n        # Load template and save HTML table file\n        with open(path_html_template, 'r', encoding='utf8') as template, \\\n             open(path_html_output, \"w+\", encoding='utf8') as table:\n\n            # Save HTML table file\n            table.write(template.read() % html_table)\n            table.close()\n            template.close()\n\na = 8"
      ]
    }
  ],
  "metadata": {
    "kernelspec": {
      "display_name": "Python 3",
      "language": "python",
      "name": "python3"
    },
    "language_info": {
      "codemirror_mode": {
        "name": "ipython",
        "version": 3
      },
      "file_extension": ".py",
      "mimetype": "text/x-python",
      "name": "python",
      "nbconvert_exporter": "python",
      "pygments_lexer": "ipython3",
      "version": "3.9.1"
    }
  },
  "nbformat": 4,
  "nbformat_minor": 0
}